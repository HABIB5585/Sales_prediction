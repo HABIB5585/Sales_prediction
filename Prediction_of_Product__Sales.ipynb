{
  "nbformat": 4,
  "nbformat_minor": 0,
  "metadata": {
    "colab": {
      "provenance": [],
      "authorship_tag": "ABX9TyO8Bahf4y7kb7LJUB2Zf0CO",
      "include_colab_link": true
    },
    "kernelspec": {
      "name": "python3",
      "display_name": "Python 3"
    },
    "language_info": {
      "name": "python"
    }
  },
  "cells": [
    {
      "cell_type": "markdown",
      "metadata": {
        "id": "view-in-github",
        "colab_type": "text"
      },
      "source": [
        "<a href=\"https://colab.research.google.com/github/HABIB5585/Sales_prediction/blob/main/Prediction_of_Product__Sales.ipynb\" target=\"_parent\"><img src=\"https://colab.research.google.com/assets/colab-badge.svg\" alt=\"Open In Colab\"/></a>"
      ]
    },
    {
      "cell_type": "markdown",
      "source": [
        "# Prediction of Product Sales"
      ],
      "metadata": {
        "id": "Px1dTbt4jBB5"
      }
    },
    {
      "cell_type": "markdown",
      "source": [
        "- Author: Marzougui Med Habib"
      ],
      "metadata": {
        "id": "F9RMx6omjEAy"
      }
    },
    {
      "cell_type": "markdown",
      "source": [
        "## Project Overview"
      ],
      "metadata": {
        "id": "2gEa7XgHjGhH"
      }
    },
    {
      "cell_type": "markdown",
      "source": [],
      "metadata": {
        "id": "yBQppv1PjdN_"
      }
    },
    {
      "cell_type": "markdown",
      "source": [
        "#Load and Inspect data"
      ],
      "metadata": {
        "id": "gli_FXwdjale"
      }
    },
    {
      "cell_type": "code",
      "source": [],
      "metadata": {
        "id": "cuCvKiC_j3Jz"
      },
      "execution_count": null,
      "outputs": []
    },
    {
      "cell_type": "markdown",
      "source": [
        "##Clean Data"
      ],
      "metadata": {
        "id": "Pk1jsHGlj6Li"
      }
    },
    {
      "cell_type": "code",
      "source": [],
      "metadata": {
        "id": "HQOyJryAkAU1"
      },
      "execution_count": null,
      "outputs": []
    },
    {
      "cell_type": "markdown",
      "source": [
        "##Exploratory Data Analysis"
      ],
      "metadata": {
        "id": "iQBg_hOkkCqB"
      }
    },
    {
      "cell_type": "code",
      "source": [],
      "metadata": {
        "id": "ryBWcqGRkJu9"
      },
      "execution_count": null,
      "outputs": []
    },
    {
      "cell_type": "markdown",
      "source": [
        "##Feature Inspection"
      ],
      "metadata": {
        "id": "zncQ8KqckN4C"
      }
    },
    {
      "cell_type": "code",
      "source": [],
      "metadata": {
        "id": "wOtgdHN2kRqx"
      },
      "execution_count": null,
      "outputs": []
    }
  ]
}